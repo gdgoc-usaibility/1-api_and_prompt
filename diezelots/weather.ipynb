{
 "cells": [
  {
   "cell_type": "code",
   "execution_count": 1,
   "id": "d1e4c2b2",
   "metadata": {},
   "outputs": [],
   "source": [
    "import os\n",
    "import requests\n",
    "import json\n",
    "from openai import OpenAI\n",
    "from dotenv import load_dotenv\n",
    "\n",
    "load_dotenv()\n",
    "OPENAI_API_KEY = os.getenv(\"OPENAI_API_KEY\")\n",
    "WEATHER_API_KEY = os.getenv(\"WEATHER_API_KEY\")\n",
    "\n",
    "client = OpenAI(api_key=OPENAI_API_KEY)"
   ]
  },
  {
   "cell_type": "code",
   "execution_count": null,
   "id": "14e9ceca",
   "metadata": {},
   "outputs": [
    {
     "name": "stdout",
     "output_type": "stream",
     "text": [
      "날씨 정보 :  Seoul의 현재 날씨는 맑음, 기온은 13.98도입니다.\n",
      "🤖 GPT의 조언: 현재 서울이 맑고 기온이 14도에 가까운 만큼, 가벼운 외출에 적합한 날씨입니다. 그러나 아침이나 저녁에는 다소 쌀쌀할 수 있으니 가벼운 겉옷을 챙기는 것이 좋습니다. 햇볕이 강할 수 있으니 sunscreen을 바르거나 모자를 착용하는 것도 추천드립니다. 즐거운 외출 되세요!\n"
     ]
    }
   ],
   "source": [
    "def get_weather(city=\"Seoul\"):\n",
    "    url = f\"http://api.openweathermap.org/data/2.5/weather?q={city}&appid={WEATHER_KEY}&units=metric&lang=kr\"\n",
    "    try:\n",
    "        res = requests.get(url)\n",
    "        res.raise_for_status()\n",
    "    except Exception as e:\n",
    "        return f\"{city}의 날씨 정보를 불러오는 중 오류 발생: {e}\"\n",
    "\n",
    "    data = res.json()\n",
    "    desc = data['weather'][0]['description']\n",
    "    temp = data['main']['temp']\n",
    "    return f\"{city}의 현재 날씨는 {desc}, 기온은 {temp}도입니다.\"\n",
    "\n",
    "def explain_weather(weather_info):\n",
    "    response = client.chat.completions.create(\n",
    "        model=\"gpt-4o-mini\",\n",
    "        messages=[\n",
    "            {\"role\": \"system\", \"content\": \"너는 짧고 친절하게 날씨를 설명해주는 도우미야.\"},\n",
    "            {\"role\": \"user\", \"content\": f\"{weather_info} 이라고 할 때 외출 시 주의할 점을 알려줘.\"}\n",
    "        ],\n",
    "        max_tokens=150\n",
    "    )\n",
    "    return response.choices[0].message.content\n",
    "\n",
    "city = \"Seoul\"\n",
    "weather = get_weather(city)\n",
    "print(\"날씨 정보 : \", weather)\n",
    "\n",
    "response = explain_weather(weather)\n",
    "print(\"🤖 GPT의 조언:\", response)"
   ]
  },
  {
   "cell_type": "code",
   "execution_count": null,
   "id": "547a6f2c",
   "metadata": {},
   "outputs": [
    {
     "name": "stdout",
     "output_type": "stream",
     "text": [
      "현재 서울은 대체로 구름이 많고 기온은 약 18.76도입니다.\n"
     ]
    }
   ],
   "source": [
    "def get_weather(city: str):\n",
    "    url = f\"http://api.openweathermap.org/data/2.5/weather?q={city}&appid={WEATHER_API_KEY}&units=metric&lang=kr\"\n",
    "    res = requests.get(url)\n",
    "    if res.status_code != 200:\n",
    "        return f\"{city}의 날씨 정보를 불러올 수 없습니다.\"\n",
    "    data = res.json()\n",
    "    desc = data[\"weather\"][0][\"description\"]\n",
    "    temp = data[\"main\"][\"temp\"]\n",
    "    return f\"{city}의 현재 날씨는 {desc}, 기온은 {temp}도입니다.\"\n",
    "\n",
    "function_definitions = [\n",
    "    {\n",
    "        \"name\": \"get_weather\",\n",
    "        \"description\": \"특정 도시의 현재 날씨를 가져옵니다.\",\n",
    "        \"parameters\": {\n",
    "            \"type\": \"object\",\n",
    "            \"properties\": {\n",
    "                \"city\": {\n",
    "                    \"type\": \"string\",\n",
    "                    \"description\": \"도시 이름 (예: Seoul, Tokyo, New York)\"\n",
    "                }\n",
    "            },\n",
    "            \"required\": [\"city\"]\n",
    "        }\n",
    "    }\n",
    "]\n",
    "\n",
    "messages = [{\"role\": \"user\", \"content\": \"서울 날씨는 어때\"}] ## 질문\n",
    "\n",
    "response = client.chat.completions.create(\n",
    "    model=\"gpt-4o-mini\",\n",
    "    messages=messages,\n",
    "    functions=function_definitions,\n",
    "    function_call=\"auto\"\n",
    ")\n",
    "\n",
    "choice = response.choices[0]\n",
    "if choice.finish_reason == \"function_call\":\n",
    "    func_call = choice.message.function_call\n",
    "    func_name = func_call.name\n",
    "    func_args = json.loads(func_call.arguments)\n",
    "\n",
    "    if func_name == \"get_weather\":\n",
    "        result = get_weather(**func_args)\n",
    "\n",
    "        final_response = client.chat.completions.create(\n",
    "            model=\"gpt-4o\",\n",
    "            messages=messages + [\n",
    "                choice.message,\n",
    "                {\"role\": \"function\", \"name\": func_name, \"content\": result}\n",
    "            ]\n",
    "        )\n",
    "        print(final_response.choices[0].message.content)\n",
    "\n",
    "else:\n",
    "    print(choice.message.content)"
   ]
  }
 ],
 "metadata": {
  "kernelspec": {
   "display_name": "Python (venv)",
   "language": "python",
   "name": "venv"
  },
  "language_info": {
   "codemirror_mode": {
    "name": "ipython",
    "version": 3
   },
   "file_extension": ".py",
   "mimetype": "text/x-python",
   "name": "python",
   "nbconvert_exporter": "python",
   "pygments_lexer": "ipython3",
   "version": "3.12.3"
  }
 },
 "nbformat": 4,
 "nbformat_minor": 5
}
