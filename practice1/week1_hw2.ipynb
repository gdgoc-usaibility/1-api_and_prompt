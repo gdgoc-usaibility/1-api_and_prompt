{
  "cells": [
    {
      "cell_type": "markdown",
      "metadata": {},
      "source": [
        "# 1주차: OpenAI API를 이용한 프롬프트 엔지니어링 "
      ]
    },
    {
      "cell_type": "markdown",
      "metadata": {},
      "source": [
        "## 과제"
      ]
    },
    {
      "cell_type": "code",
      "execution_count": 1,
      "metadata": {},
      "outputs": [
        {
          "name": "stdout",
          "output_type": "stream",
          "text": [
            "현재 기온(섭씨): 15.4\n",
            "ㅋㅋㅋ 아무말이 오히려 더 재밌을 때도 있죠! 어떤 주제든 편하게 이야기해요!\n"
          ]
        }
      ],
      "source": [
        "\n",
        "import json\n",
        "import requests\n",
        "from dotenv import load_dotenv\n",
        "import os\n",
        "from openai import OpenAI\n",
        "load_dotenv()\n",
        "OPENAI_API_KEY = os.getenv(\"OPENAI_API_KEY\")\n",
        "client = OpenAI(api_key=OPENAI_API_KEY)\n",
        "\n",
        "def get_current_weather(latitude, longitude, unit=\"fahrenheit\"):\n",
        "    \n",
        "    response = requests.get(f\"https://api.open-meteo.com/v1/forecast?latitude={latitude}&longitude={longitude}&current=temperature_2m,wind_speed_10m&hourly=temperature_2m,relative_humidity_2m,wind_speed_10m\")\n",
        "    data = response.json()\n",
        "    return data['current']['temperature_2m']\n",
        "\n",
        "messages_lst = [\n",
        "    [{\"role\": \"user\", \"content\": \"지금 서울 날씨를 섭씨로 알려줘.\"}],\n",
        "    [{\"role\": \"user\", \"content\": \"아무말 ㅋㅅㅋ\"}]\n",
        "]\n",
        "\n",
        "\n",
        "tools = [\n",
        "    {\n",
        "        \"type\": \"function\",\n",
        "        \"function\": {\n",
        "            \"name\": \"get_current_weather\",\n",
        "            \"description\": \"특정 지역의 날씨를 알려줍니다.\",\n",
        "            \"parameters\": {\n",
        "                \"type\": \"object\",\n",
        "                \"properties\": {\n",
        "                    \"latitude\": {\"type\": \"number\"},\n",
        "                    \"longitude\": {\"type\": \"number\"},\n",
        "                    \"unit\": {\"type\": \"string\", \"enum\": [\"섭씨\", \"화씨\"]},\n",
        "                },\n",
        "                \"required\": [\"latitude\", \"longitude\"],\n",
        "            },\n",
        "        }\n",
        "    }\n",
        "]\n",
        "\n",
        "\n",
        "for messages in messages_lst :\n",
        "    response = client.chat.completions.create(\n",
        "    model=\"gpt-4o-mini\",\n",
        "    messages=messages,\n",
        "    tools=tools,\n",
        "    )\n",
        "\n",
        "    response_dict = response.to_dict()\n",
        "    message_content = response_dict[\"choices\"][0][\"message\"]\n",
        "    \n",
        "    if \"tool_calls\" in message_content:\n",
        "        tool_call = message_content[\"tool_calls\"][0]\n",
        "        function_name = tool_call[\"function\"][\"name\"]\n",
        "        arguments = json.loads(tool_call[\"function\"][\"arguments\"])\n",
        "\n",
        "        if function_name == \"get_current_weather\":\n",
        "            latitiude = arguments[\"latitude\"] \n",
        "            longitude = arguments[\"longitude\"]\n",
        "            unit = arguments[\"unit\"]\n",
        "            analysis_result = get_current_weather(latitiude, longitude, unit)\n",
        "            print(f\"현재 기온({unit}): {analysis_result:.1f}\")\n",
        "\n",
        "    else:\n",
        "        print(message_content[\"content\"])\n",
        "        \n",
        "    \n",
        "    "
      ]
    }
  ],
  "metadata": {
    "colab": {
      "provenance": []
    },
    "kernelspec": {
      "display_name": "Python (myenv)",
      "language": "python",
      "name": "myenv"
    },
    "language_info": {
      "codemirror_mode": {
        "name": "ipython",
        "version": 3
      },
      "file_extension": ".py",
      "mimetype": "text/x-python",
      "name": "python",
      "nbconvert_exporter": "python",
      "pygments_lexer": "ipython3",
      "version": "3.11.4"
    }
  },
  "nbformat": 4,
  "nbformat_minor": 0
}
