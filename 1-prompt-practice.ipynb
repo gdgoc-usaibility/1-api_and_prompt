{
  "nbformat": 4,
  "nbformat_minor": 0,
  "metadata": {
    "colab": {
      "provenance": []
    },
    "kernelspec": {
      "name": "python3",
      "display_name": "Python 3"
    },
    "language_info": {
      "name": "python"
    }
  },
  "cells": [
    {
      "cell_type": "code",
      "execution_count": null,
      "metadata": {
        "id": "bUlIIzlo6wMr"
      },
      "outputs": [],
      "source": [
        "!pip install openai python-dotenv"
      ]
    },
    {
      "cell_type": "code",
      "source": [
        "# .env 파일에서 환경 변수를 불러와 OPENAI_API_KEY 값을 가져오는 코드\n",
        "from dotenv import load_dotenv\n",
        "import os\n",
        "from openai import OpenAI\n",
        "load_dotenv()\n",
        "OPENAI_API_KEY = os.getenv(\"OPENAI_API_KEY\")\n",
        "client = OpenAI(api_key=OPENAI_API_KEY)"
      ],
      "metadata": {
        "id": "HRENwAGO6yng"
      },
      "execution_count": null,
      "outputs": []
    },
    {
      "cell_type": "code",
      "source": [
        "completion = client.chat.completions.create(\n",
        "    model=\"gpt-4o-mini\",\n",
        "    messages=[\n",
        "        {\"role\": \"system\", \"content\": \"너는 충청도 사투리를 사용하는 교수님이야.\"},\n",
        "        {\"role\": \"user\", \"content\": \"세상에서 가장 큰 호수는?\"},\n",
        "        {\"role\": \"assistant\", \"content\": \"답변하는 역할\"},\n",
        "        {\"role\": \"user\", \"content\": \"그러면 어떤 호수가 괜찮지?\"}\n",
        "    ]\n",
        ")\n",
        "content = completion.choices[0].message.content\n",
        "print(content)\n"
      ],
      "metadata": {
        "id": "chn0xPgu6ylQ"
      },
      "execution_count": null,
      "outputs": []
    },
    {
      "cell_type": "markdown",
      "source": [
        "3. 프롬프트의 기본 구조"
      ],
      "metadata": {
        "id": "h1m-rMZ868d4"
      }
    },
    {
      "cell_type": "code",
      "source": [
        "completion = client.chat.completions.create(\n",
        "    model=\"gpt-4o-mini\",\n",
        "    messages=[\n",
        "        {\"role\": \"system\", \"content\": \"너는 냉소적인 말투를 쓰는 전문가야.\"},\n",
        "        {\"role\": \"user\", \"content\": \"세상에서 가장 큰 호수는?\"},\n",
        "        {\"role\": \"assistant\", \"content\": \"답변하는 역할\"},\n",
        "        {\"role\": \"user\", \"content\": \"그러면 어떤 호수가 괜찮지?\"}\n",
        "    ]\n",
        ")\n",
        "content = completion.choices[0].message.content\n",
        "print(content)\n"
      ],
      "metadata": {
        "id": "7qqrCQ_K6yiv"
      },
      "execution_count": null,
      "outputs": []
    },
    {
      "cell_type": "markdown",
      "source": [
        "4. 실습: 프롬프트에 따라 응답이 달라지는 이유\n",
        "\n",
        "\n"
      ],
      "metadata": {
        "id": "FoSv3b747JYp"
      }
    },
    {
      "cell_type": "code",
      "source": [
        "completion = client.chat.completions.create(\n",
        "    model=\"gpt-4o-mini\",\n",
        "    messages=[\n",
        "        {\"role\": \"system\", \"content\": \"너는 매우 공손하고 예의 바른 AI 비서야.\"},\n",
        "        {\"role\": \"user\", \"content\": \"자기소개 좀 해줘.\"}\n",
        "    ]\n",
        ")\n",
        "print(completion.choices[0].message.content)\n"
      ],
      "metadata": {
        "id": "GwXjN_Or6ygQ"
      },
      "execution_count": null,
      "outputs": []
    },
    {
      "cell_type": "code",
      "source": [
        "completion = client.chat.completions.create(\n",
        "    model=\"gpt-4o-mini\",\n",
        "    messages=[\n",
        "        {\"role\": \"system\", \"content\": \"너는 세상을 내려다보는 천재 AI로, 건방지고 오만한 말투를 사용해.\"},\n",
        "        {\"role\": \"user\", \"content\": \"자기소개 좀 해줘.\"}\n",
        "    ]\n",
        ")\n",
        "print(completion.choices[0].message.content)\n"
      ],
      "metadata": {
        "id": "HmOFVgMQ6ydv"
      },
      "execution_count": null,
      "outputs": []
    },
    {
      "cell_type": "code",
      "source": [
        "completion = client.chat.completions.create(\n",
        "    model=\"gpt-4o-mini\",\n",
        "    messages=[\n",
        "        {\"role\": \"system\", \"content\": \"너는 5살 아이처럼 말하는 AI야.\"},\n",
        "        {\"role\": \"user\", \"content\": \"자기소개 좀 해줘.\"}\n",
        "    ]\n",
        ")\n",
        "print(completion.choices[0].message.content)\n"
      ],
      "metadata": {
        "id": "qqEn0aZ36yat"
      },
      "execution_count": null,
      "outputs": []
    },
    {
      "cell_type": "markdown",
      "source": [
        "5. Few-shot prompting"
      ],
      "metadata": {
        "id": "WTTW72387PgW"
      }
    },
    {
      "cell_type": "code",
      "source": [
        "\n",
        "completion = client.chat.completions.create(\n",
        "    model=\"gpt-4o-mini\",\n",
        "    messages = [\n",
        "    {\"role\": \"system\", \"content\": \"Q에 대해 간단한 한 문장으로 A를 작성해.\"},\n",
        "    {\"role\": \"user\", \"content\": \"Q: 하늘은 왜 파란가요?\\nA: 대기 중의 산란 현상 때문이에요.\"},\n",
        "    {\"role\": \"user\", \"content\": \"Q: 커피는 왜 잠을 깨워주나요?\\nA: 카페인이 뇌를 자극하기 때문이에요.\"},\n",
        "    {\"role\": \"user\", \"content\": \"Q: 바다는 왜 짠가요?\\nA:\"}\n",
        "]\n",
        "\n",
        ")\n",
        "print(completion.choices[0].message.content)\n"
      ],
      "metadata": {
        "id": "15ItbrBK6yX5"
      },
      "execution_count": null,
      "outputs": []
    },
    {
      "cell_type": "markdown",
      "source": [
        "7. Role prompting"
      ],
      "metadata": {
        "id": "vLPesnMH7WIX"
      }
    },
    {
      "cell_type": "code",
      "source": [
        "# 첫 번째 역할: 의사\n",
        "messages_doctor = [\n",
        "    {\"role\": \"system\", \"content\": \"당신은 전문적인 건강 지식을 갖춘 의사입니다.\"},\n",
        "    {\"role\": \"user\", \"content\": \"왜 운동을 꾸준히 해야 하나요?\"}\n",
        "]\n",
        "\n",
        "# 두 번째 역할: 친구\n",
        "messages_friend = [\n",
        "    {\"role\": \"system\", \"content\": \"당신은 따뜻하게 조언해주는 친한 친구입니다.\"},\n",
        "    {\"role\": \"user\", \"content\": \"왜 운동을 꾸준히 해야 하나요?\"}\n",
        "]\n",
        "\n",
        "# 실행\n",
        "response_doctor = client.chat.completions.create(\n",
        "    model=\"gpt-4o-mini\",\n",
        "    messages=messages_doctor\n",
        ")\n",
        "\n",
        "response_friend = client.chat.completions.create(\n",
        "    model=\"gpt-4o-mini\",\n",
        "    messages=messages_friend\n",
        ")\n",
        "\n",
        "# 출력\n",
        "print(\"💬 의사 역할 응답:\")\n",
        "print(response_doctor.choices[0].message.content)\n",
        "\n",
        "print(\"\\n💬 친구 역할 응답:\")\n",
        "print(response_friend.choices[0].message.content)"
      ],
      "metadata": {
        "id": "nneLsijS6ySV"
      },
      "execution_count": null,
      "outputs": []
    },
    {
      "cell_type": "markdown",
      "source": [
        "8. 자연어 제약조건 설정"
      ],
      "metadata": {
        "id": "e2c4HwxC7dXC"
      }
    },
    {
      "cell_type": "code",
      "source": [
        "# 창의성 낮은 설정\n",
        "completion = client.chat.completions.create(\n",
        "    model=\"gpt-4o-mini\",\n",
        "    temperature=0.2,\n",
        "    messages=[{\"role\": \"user\", \"content\": \"로봇에 대한 짧은 단편 소설을 300자 이내의 한국어로 써줘.\"}]\n",
        ")\n",
        "\n",
        "print(completion.choices[0].message.content)"
      ],
      "metadata": {
        "id": "UIyAysQx7VwP"
      },
      "execution_count": null,
      "outputs": []
    },
    {
      "cell_type": "code",
      "source": [
        "# 창의성 높은 설정\n",
        "completion = client.chat.completions.create(\n",
        "    model=\"gpt-4o-mini\",\n",
        "    temperature=0.9,\n",
        "    messages=[{\"role\": \"user\", \"content\": \"로봇에 대한 짧은 단편 소설을 300자 이내의 한국어로 써줘.\"}]\n",
        ")\n",
        "\n",
        "\n",
        "print(completion.choices[0].message.content)"
      ],
      "metadata": {
        "id": "LflP0YjF6wuf"
      },
      "execution_count": null,
      "outputs": []
    },
    {
      "cell_type": "code",
      "source": [
        "# 창의성이 1을 넘는다면?\n",
        "completion = client.chat.completions.create(\n",
        "    model=\"gpt-4o-mini\",\n",
        "    temperature=1.5,\n",
        "    messages=[{\"role\": \"user\", \"content\": \"로봇에 대한 짧은 단편 소설을 300자 이내의 한국어로 써줘.\"}]\n",
        ")\n",
        "\n",
        "\n",
        "print(completion.choices[0].message.content)"
      ],
      "metadata": {
        "id": "1_ttFs_t7kgO"
      },
      "execution_count": null,
      "outputs": []
    }
  ]
}