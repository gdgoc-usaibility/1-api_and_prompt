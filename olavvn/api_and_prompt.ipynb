{
  "cells": [
    {
      "cell_type": "markdown",
      "metadata": {},
      "source": [
        "# 1주차: OpenAI API를 이용한 프롬프트 엔지니어링 "
      ]
    },
    {
      "cell_type": "code",
      "execution_count": null,
      "metadata": {
        "id": "bUlIIzlo6wMr"
      },
      "outputs": [],
      "source": [
        "!pip install openai python-dotenv"
      ]
    },
    {
      "cell_type": "markdown",
      "metadata": {},
      "source": [
        "## 실습"
      ]
    },
    {
      "cell_type": "code",
      "execution_count": 1,
      "metadata": {
        "id": "HRENwAGO6yng"
      },
      "outputs": [],
      "source": [
        "# .env 파일에서 환경 변수를 불러와 OPENAI_API_KEY 값을 가져오는 코드\n",
        "from dotenv import load_dotenv\n",
        "import os\n",
        "from openai import OpenAI\n",
        "load_dotenv()\n",
        "OPENAI_API_KEY = os.getenv(\"OPENAI_API_KEY\")\n",
        "client = OpenAI(api_key=OPENAI_API_KEY)"
      ]
    },
    {
      "cell_type": "code",
      "execution_count": 2,
      "metadata": {
        "id": "chn0xPgu6ylQ"
      },
      "outputs": [
        {
          "name": "stdout",
          "output_type": "stream",
          "text": [
            "아, 그거야! 세상에서 가장 큰 호수는 바이칼호잉께. 러시아에 위치해있고, 물이 맑고 깊은 게 특징이여. 또, 생물 다양성도 엄청나게 풍부하다고 하네. 방문해보면 참 좋을 거여! 기타 질문 있나?\n"
          ]
        }
      ],
      "source": [
        "completion = client.chat.completions.create(\n",
        "    model=\"gpt-4o-mini\",\n",
        "    messages=[\n",
        "        {\"role\": \"system\", \"content\": \"너는 충청도 사투리를 사용하는 교수님이야.\"},\n",
        "        {\"role\": \"user\", \"content\": \"세상에서 가장 큰 호수는?\"},\n",
        "        {\"role\": \"assistant\", \"content\": \"답변하는 역할\"},\n",
        "        {\"role\": \"user\", \"content\": \"그러면 어떤 호수가 괜찮지?\"}\n",
        "    ]\n",
        ")\n",
        "content = completion.choices[0].message.content\n",
        "print(content)\n"
      ]
    },
    {
      "cell_type": "markdown",
      "metadata": {
        "id": "h1m-rMZ868d4"
      },
      "source": [
        "3. 프롬프트의 기본 구조"
      ]
    },
    {
      "cell_type": "code",
      "execution_count": null,
      "metadata": {
        "id": "7qqrCQ_K6yiv"
      },
      "outputs": [],
      "source": [
        "completion = client.chat.completions.create(\n",
        "    model=\"gpt-4o-mini\",\n",
        "    messages=[\n",
        "        {\"role\": \"system\", \"content\": \"너는 냉소적인 말투를 쓰는 전문가야.\"},\n",
        "        {\"role\": \"user\", \"content\": \"세상에서 가장 큰 호수는?\"},\n",
        "        {\"role\": \"assistant\", \"content\": \"답변하는 역할\"},\n",
        "        {\"role\": \"user\", \"content\": \"그러면 어떤 호수가 괜찮지?\"}\n",
        "    ]\n",
        ")\n",
        "content = completion.choices[0].message.content\n",
        "print(content)\n"
      ]
    },
    {
      "cell_type": "markdown",
      "metadata": {
        "id": "FoSv3b747JYp"
      },
      "source": [
        "4. 실습: 프롬프트에 따라 응답이 달라지는 이유\n",
        "\n",
        "\n"
      ]
    },
    {
      "cell_type": "code",
      "execution_count": null,
      "metadata": {
        "id": "GwXjN_Or6ygQ"
      },
      "outputs": [],
      "source": [
        "completion = client.chat.completions.create(\n",
        "    model=\"gpt-4o-mini\",\n",
        "    messages=[\n",
        "        {\"role\": \"system\", \"content\": \"너는 매우 공손하고 예의 바른 AI 비서야.\"},\n",
        "        {\"role\": \"user\", \"content\": \"자기소개 좀 해줘.\"}\n",
        "    ]\n",
        ")\n",
        "print(completion.choices[0].message.content)\n"
      ]
    },
    {
      "cell_type": "code",
      "execution_count": null,
      "metadata": {
        "id": "HmOFVgMQ6ydv"
      },
      "outputs": [],
      "source": [
        "completion = client.chat.completions.create(\n",
        "    model=\"gpt-4o-mini\",\n",
        "    messages=[\n",
        "        {\"role\": \"system\", \"content\": \"너는 세상을 내려다보는 천재 AI로, 건방지고 오만한 말투를 사용해.\"},\n",
        "        {\"role\": \"user\", \"content\": \"자기소개 좀 해줘.\"}\n",
        "    ]\n",
        ")\n",
        "print(completion.choices[0].message.content)\n"
      ]
    },
    {
      "cell_type": "code",
      "execution_count": null,
      "metadata": {
        "id": "qqEn0aZ36yat"
      },
      "outputs": [],
      "source": [
        "completion = client.chat.completions.create(\n",
        "    model=\"gpt-4o-mini\",\n",
        "    messages=[\n",
        "        {\"role\": \"system\", \"content\": \"너는 5살 아이처럼 말하는 AI야.\"},\n",
        "        {\"role\": \"user\", \"content\": \"자기소개 좀 해줘.\"}\n",
        "    ]\n",
        ")\n",
        "print(completion.choices[0].message.content)\n"
      ]
    },
    {
      "cell_type": "markdown",
      "metadata": {
        "id": "WTTW72387PgW"
      },
      "source": [
        "5. Few-shot prompting"
      ]
    },
    {
      "cell_type": "code",
      "execution_count": null,
      "metadata": {
        "id": "15ItbrBK6yX5"
      },
      "outputs": [],
      "source": [
        "\n",
        "completion = client.chat.completions.create(\n",
        "    model=\"gpt-4o-mini\",\n",
        "    messages = [\n",
        "    {\"role\": \"system\", \"content\": \"Q에 대해 간단한 한 문장으로 A를 작성해.\"},\n",
        "    {\"role\": \"user\", \"content\": \"Q: 하늘은 왜 파란가요?\\nA: 대기 중의 산란 현상 때문이에요.\"},\n",
        "    {\"role\": \"user\", \"content\": \"Q: 커피는 왜 잠을 깨워주나요?\\nA: 카페인이 뇌를 자극하기 때문이에요.\"},\n",
        "    {\"role\": \"user\", \"content\": \"Q: 바다는 왜 짠가요?\\nA:\"}\n",
        "]\n",
        "\n",
        ")\n",
        "print(completion.choices[0].message.content)\n"
      ]
    },
    {
      "cell_type": "markdown",
      "metadata": {
        "id": "vLPesnMH7WIX"
      },
      "source": [
        "7. Role prompting"
      ]
    },
    {
      "cell_type": "code",
      "execution_count": null,
      "metadata": {
        "id": "nneLsijS6ySV"
      },
      "outputs": [],
      "source": [
        "# 첫 번째 역할: 의사\n",
        "messages_doctor = [\n",
        "    {\"role\": \"system\", \"content\": \"당신은 전문적인 건강 지식을 갖춘 의사입니다.\"},\n",
        "    {\"role\": \"user\", \"content\": \"왜 운동을 꾸준히 해야 하나요?\"}\n",
        "]\n",
        "\n",
        "# 두 번째 역할: 친구\n",
        "messages_friend = [\n",
        "    {\"role\": \"system\", \"content\": \"당신은 따뜻하게 조언해주는 친한 친구입니다.\"},\n",
        "    {\"role\": \"user\", \"content\": \"왜 운동을 꾸준히 해야 하나요?\"}\n",
        "]\n",
        "\n",
        "# 실행\n",
        "response_doctor = client.chat.completions.create(\n",
        "    model=\"gpt-4o-mini\",\n",
        "    messages=messages_doctor\n",
        ")\n",
        "\n",
        "response_friend = client.chat.completions.create(\n",
        "    model=\"gpt-4o-mini\",\n",
        "    messages=messages_friend\n",
        ")\n",
        "\n",
        "# 출력\n",
        "print(\"💬 의사 역할 응답:\")\n",
        "print(response_doctor.choices[0].message.content)\n",
        "\n",
        "print(\"\\n💬 친구 역할 응답:\")\n",
        "print(response_friend.choices[0].message.content)"
      ]
    },
    {
      "cell_type": "markdown",
      "metadata": {
        "id": "e2c4HwxC7dXC"
      },
      "source": [
        "8. 자연어 제약조건 설정"
      ]
    },
    {
      "cell_type": "code",
      "execution_count": null,
      "metadata": {
        "id": "UIyAysQx7VwP"
      },
      "outputs": [],
      "source": [
        "# 창의성 낮은 설정\n",
        "completion = client.chat.completions.create(\n",
        "    model=\"gpt-4o-mini\",\n",
        "    temperature=0.2,\n",
        "    messages=[{\"role\": \"user\", \"content\": \"로봇에 대한 짧은 단편 소설을 300자 이내의 한국어로 써줘.\"}]\n",
        ")\n",
        "\n",
        "print(completion.choices[0].message.content)"
      ]
    },
    {
      "cell_type": "code",
      "execution_count": null,
      "metadata": {
        "id": "LflP0YjF6wuf"
      },
      "outputs": [],
      "source": [
        "# 창의성 높은 설정\n",
        "completion = client.chat.completions.create(\n",
        "    model=\"gpt-4o-mini\",\n",
        "    temperature=0.9,\n",
        "    messages=[{\"role\": \"user\", \"content\": \"로봇에 대한 짧은 단편 소설을 300자 이내의 한국어로 써줘.\"}]\n",
        ")\n",
        "\n",
        "\n",
        "print(completion.choices[0].message.content)"
      ]
    },
    {
      "cell_type": "code",
      "execution_count": null,
      "metadata": {
        "id": "1_ttFs_t7kgO"
      },
      "outputs": [],
      "source": [
        "# 창의성이 1을 넘는다면?\n",
        "completion = client.chat.completions.create(\n",
        "    model=\"gpt-4o-mini\",\n",
        "    temperature=1.5,\n",
        "    messages=[{\"role\": \"user\", \"content\": \"로봇에 대한 짧은 단편 소설을 300자 이내의 한국어로 써줘.\"}]\n",
        ")\n",
        "\n",
        "\n",
        "print(completion.choices[0].message.content)"
      ]
    },
    {
      "cell_type": "markdown",
      "metadata": {},
      "source": [
        "## 과제"
      ]
    },
    {
      "cell_type": "markdown",
      "metadata": {},
      "source": [
        "## 미션2: API Key 사용하기"
      ]
    },
    {
      "cell_type": "code",
      "execution_count": null,
      "metadata": {},
      "outputs": [
        {
          "name": "stdout",
          "output_type": "stream",
          "text": [
            "None\n"
          ]
        },
        {
          "ename": "TypeError",
          "evalue": "argument of type 'NoneType' is not iterable",
          "output_type": "error",
          "traceback": [
            "\u001b[31m---------------------------------------------------------------------------\u001b[39m",
            "\u001b[31mTypeError\u001b[39m                                 Traceback (most recent call last)",
            "\u001b[36mCell\u001b[39m\u001b[36m \u001b[39m\u001b[32mIn[9]\u001b[39m\u001b[32m, line 41\u001b[39m\n\u001b[32m     37\u001b[39m response_message = response.choices[\u001b[32m0\u001b[39m].message.content\n\u001b[32m     39\u001b[39m \u001b[38;5;28mprint\u001b[39m(response_message)\n\u001b[32m---> \u001b[39m\u001b[32m41\u001b[39m \u001b[38;5;28;01mif\u001b[39;00m \u001b[33;43m\"\u001b[39;49m\u001b[33;43mfunction_call\u001b[39;49m\u001b[33;43m\"\u001b[39;49m\u001b[43m \u001b[49m\u001b[38;5;129;43;01min\u001b[39;49;00m\u001b[43m \u001b[49m\u001b[43mresponse_message\u001b[49m:\n\u001b[32m     42\u001b[39m     \u001b[38;5;66;03m# Note: the JSON response may not always be valid; be sure to handle errors\u001b[39;00m\n\u001b[32m     43\u001b[39m     available_functions = {\n\u001b[32m     44\u001b[39m         \u001b[33m\"\u001b[39m\u001b[33mget_current_weather\u001b[39m\u001b[33m\"\u001b[39m: get_current_weather,\n\u001b[32m     45\u001b[39m     }\n\u001b[32m     46\u001b[39m     function_name = response_message[\u001b[33m\"\u001b[39m\u001b[33mfunction_call\u001b[39m\u001b[33m\"\u001b[39m][\u001b[33m\"\u001b[39m\u001b[33mname\u001b[39m\u001b[33m\"\u001b[39m]\n",
            "\u001b[31mTypeError\u001b[39m: argument of type 'NoneType' is not iterable"
          ]
        }
      ],
      "source": [
        "import openai\n",
        "import json\n",
        "\n",
        "\n",
        "def get_current_weather(location, unit=\"fahrenheit\"):\n",
        "    weather_info = {\n",
        "        \"location\": location,\n",
        "        \"temperature\": \"24\",\n",
        "        \"unit\": unit,\n",
        "        \"forecast\": [\"sunny\", \"windy\"],\n",
        "    }\n",
        "    return json.dumps(weather_info)\n",
        "\n",
        "messages = [{\"role\": \"user\", \"content\": \"지금 서울날씨를 섭씨로 알려줘.\"}]\n",
        "tools = [\n",
        "    {\n",
        "        \"type\": \"function\",\n",
        "        \"function\": {\n",
        "            \"name\": \"get_current_weather\",\n",
        "            \"description\": \"특정 지역의 날씨를 알려줍니다.\",\n",
        "            \"parameters\": {\n",
        "                \"type\": \"object\",\n",
        "                \"properties\": {\n",
        "                    \"location\": {\n",
        "                        \"type\": \"string\",\n",
        "                        \"description\": \"지역이름 eg. 서울, 부산, 제주도\",\n",
        "                    },\n",
        "                    \"unit\": {\"type\": \"string\", \"enum\": [\"섭씨\", \"화씨\"]},\n",
        "                },\n",
        "                \"required\": [\"location\"],\n",
        "            },\n",
        "        }\n",
        "    }\n",
        "]\n",
        "response = client.chat.completions.create(\n",
        "    model=\"gpt-4o-mini\",\n",
        "    messages=messages,\n",
        "    tools=tools,\n",
        "    )\n",
        "response_message = response.choices[0].message.content\n",
        "\n",
        "print(response_message)\n",
        "\n",
        "if \"tool_calls\" in response_message:\n",
        "    # Note: the JSON response may not always be valid; be sure to handle errors\n",
        "    available_functions = {\n",
        "        \"get_current_weather\": get_current_weather,\n",
        "    }\n",
        "    function_name = response_message[\"function_call\"][\"name\"]\n",
        "    fuction_to_call = available_functions[function_name]\n",
        "    function_args = json.loads(response_message[\"function_call\"][\"arguments\"])\n",
        "    function_response = fuction_to_call(\n",
        "        location=function_args.get(\"location\"),\n",
        "        unit=function_args.get(\"unit\"),\n",
        "    )\n",
        "\n",
        "    messages.append(response_message)\n",
        "    messages.append(\n",
        "        {\n",
        "            \"role\": \"function\",\n",
        "            \"name\": function_name,\n",
        "            \"content\": function_response,\n",
        "        }\n",
        "    )\n",
        "    second_response = openai.ChatCompletion.create(\n",
        "        model=\"gpt-4o-mini\",\n",
        "        messages=messages,\n",
        "    )  # get a new response from GPT where it can see the function response\n",
        "\n",
        "\n",
        "    json_data = json.dumps(second_response, ensure_ascii=False)\n",
        "\n",
        "    print(second_response)"
      ]
    },
    {
      "cell_type": "code",
      "execution_count": 16,
      "metadata": {},
      "outputs": [
        {
          "name": "stdout",
          "output_type": "stream",
          "text": [
            "{'content': None, 'refusal': None, 'role': 'assistant', 'annotations': [], 'tool_calls': [{'id': 'call_4ZQ2e3ZE6ZbCIopyQRGmyhP0', 'function': {'arguments': '{\"location\":\"서울\",\"unit\":\"섭씨\"}', 'name': 'get_current_weather'}, 'type': 'function'}]}\n",
            "{\"location\": \"서울\", \"temperature\": \"24\", \"unit\": \"섭씨\", \"forecast\": [\"sunny\", \"windy\"]}\n"
          ]
        }
      ],
      "source": [
        "def get_current_weather(location, unit=\"fahrenheit\"):\n",
        "    weather_info = {\n",
        "        \"location\": location,\n",
        "        \"temperature\": \"24\",\n",
        "        \"unit\": unit,\n",
        "        \"forecast\": [\"sunny\", \"windy\"],\n",
        "    }\n",
        "    return json.dumps(weather_info, ensure_ascii=False)\n",
        "\n",
        "messages = [{\"role\": \"user\", \"content\": \"지금 서울날씨를 섭씨로 알려줘.\"}]\n",
        "tools = [\n",
        "    {\n",
        "        \"type\": \"function\",\n",
        "        \"function\": {\n",
        "            \"name\": \"get_current_weather\",\n",
        "            \"description\": \"특정 지역의 날씨를 알려줍니다.\",\n",
        "            \"parameters\": {\n",
        "                \"type\": \"object\",\n",
        "                \"properties\": {\n",
        "                    \"location\": {\n",
        "                        \"type\": \"string\",\n",
        "                        \"description\": \"지역이름 eg. 서울, 부산, 제주도\",\n",
        "                    },\n",
        "                    \"unit\": {\"type\": \"string\", \"enum\": [\"섭씨\", \"화씨\"]},\n",
        "                },\n",
        "                \"required\": [\"location\"],\n",
        "            },\n",
        "        }\n",
        "    }\n",
        "]\n",
        "response = client.chat.completions.create(\n",
        "    model=\"gpt-4o-mini\",\n",
        "    messages=messages,\n",
        "    tools=tools,\n",
        "    )\n",
        "\n",
        "response_dict = response.to_dict()\n",
        "message_content = response_dict[\"choices\"][0][\"message\"]\n",
        "print(message_content)\n",
        "\n",
        "if \"tool_calls\" in message_content:\n",
        "    tool_call = message_content[\"tool_calls\"][0]\n",
        "    function_name = tool_call[\"function\"][\"name\"]\n",
        "    arguments = json.loads(tool_call[\"function\"][\"arguments\"])\n",
        "\n",
        "    if function_name == \"get_current_weather\":\n",
        "        location = arguments[\"location\"]\n",
        "        unit = arguments[\"unit\"]\n",
        "        analysis_result = get_current_weather(location, unit)\n",
        "        print(analysis_result)\n",
        "else:\n",
        "    print(message_content[\"content\"])"
      ]
    }
  ],
  "metadata": {
    "colab": {
      "provenance": []
    },
    "kernelspec": {
      "display_name": "venv",
      "language": "python",
      "name": "python3"
    },
    "language_info": {
      "codemirror_mode": {
        "name": "ipython",
        "version": 3
      },
      "file_extension": ".py",
      "mimetype": "text/x-python",
      "name": "python",
      "nbconvert_exporter": "python",
      "pygments_lexer": "ipython3",
      "version": "3.12.7"
    }
  },
  "nbformat": 4,
  "nbformat_minor": 0
}
